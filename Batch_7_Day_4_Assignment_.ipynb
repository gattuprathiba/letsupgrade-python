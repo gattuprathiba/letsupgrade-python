{
  "nbformat": 4,
  "nbformat_minor": 0,
  "metadata": {
    "colab": {
      "name": "Batch-7 Day-4 Assignment .ipynb",
      "provenance": [],
      "authorship_tag": "ABX9TyOfcJvDhx84gI+8B50vYgzJ",
      "include_colab_link": true
    },
    "kernelspec": {
      "name": "python3",
      "display_name": "Python 3"
    }
  },
  "cells": [
    {
      "cell_type": "markdown",
      "metadata": {
        "id": "view-in-github",
        "colab_type": "text"
      },
      "source": [
        "<a href=\"https://colab.research.google.com/github/gattuprathiba/letsupgrade-python/blob/master/Batch_7_Day_4_Assignment_.ipynb\" target=\"_parent\"><img src=\"https://colab.research.google.com/assets/colab-badge.svg\" alt=\"Open In Colab\"/></a>"
      ]
    },
    {
      "cell_type": "markdown",
      "metadata": {
        "id": "c67f0rEdJqv3",
        "colab_type": "text"
      },
      "source": [
        "Assignment-1 Day-4(Armstrong Number)"
      ]
    },
    {
      "cell_type": "code",
      "metadata": {
        "id": "hD6w0jUwJvRY",
        "colab_type": "code",
        "colab": {
          "base_uri": "https://localhost:8080/",
          "height": 34
        },
        "outputId": "96f61a9c-3d0d-4024-c577-e4a23f77d851"
      },
      "source": [
        "lower=1042000\n",
        "upper=702648265\n",
        "for num in range(lower,upper+1):\n",
        "  sum=0\n",
        "  temp=num\n",
        "  length=len(str(temp))\n",
        "  while temp>0:\n",
        "    digit=temp%10\n",
        "    sum+=digit**length\n",
        "    temp//=10\n",
        "  if num==sum:\n",
        "    print(num,\" is the first armstrong number\")\n",
        "    break"
      ],
      "execution_count": 16,
      "outputs": [
        {
          "output_type": "stream",
          "text": [
            "1741725  is the first armstrong number\n"
          ],
          "name": "stdout"
        }
      ]
    }
  ]
}