{
  "nbformat": 4,
  "nbformat_minor": 0,
  "metadata": {
    "colab": {
      "name": "Silver Project letsupgrade.ipynb",
      "provenance": [],
      "authorship_tag": "ABX9TyOUs52AWBXguaEwIzyfLYWH",
      "include_colab_link": true
    },
    "kernelspec": {
      "name": "python3",
      "display_name": "Python 3"
    }
  },
  "cells": [
    {
      "cell_type": "markdown",
      "metadata": {
        "id": "view-in-github",
        "colab_type": "text"
      },
      "source": [
        "<a href=\"https://colab.research.google.com/github/gattuprathiba/letsupgrade-python/blob/master/Silver_Project_letsupgrade.ipynb\" target=\"_parent\"><img src=\"https://colab.research.google.com/assets/colab-badge.svg\" alt=\"Open In Colab\"/></a>"
      ]
    },
    {
      "cell_type": "code",
      "metadata": {
        "id": "dAAbHKTJXKXV",
        "colab_type": "code",
        "colab": {}
      },
      "source": [
        "Building Rock_Paper_Scissor Game"
      ],
      "execution_count": null,
      "outputs": []
    },
    {
      "cell_type": "code",
      "metadata": {
        "id": "ktKbIcG98PEk",
        "colab_type": "code",
        "colab": {
          "base_uri": "https://localhost:8080/",
          "height": 190
        },
        "outputId": "cd8956cd-33a7-4d80-877e-f6ebc095dd45"
      },
      "source": [
        "#first let's import random module\n",
        "from random import randint\n",
        "#create a list from which computer will choose\n",
        "moves=[\"Rock\",\"Paper\",\"Scissor\"]\n",
        "#define a function which will start Game\n",
        "def playGame():\n",
        "  # let's computer choose their move\n",
        "  computer=moves[randint(0,2)] \n",
        "  # Ask user to type their moves\n",
        "  player=input(\"Enter your move Rock,Paper,Scissor?\")\n",
        "  print(\"You pic \" + player)\n",
        "  if computer==moves[0]:\n",
        "    print(\"computer picks Rock\")\n",
        "  elif computer==moves[1]:\n",
        "    print(\"computer picks Paper\")\n",
        "  elif computer==moves[2]:\n",
        "    print(\"computer picks Scissor\")\n",
        "  else:\n",
        "    print(\"computer picks nothing\")\n",
        "  # logic \n",
        "  # if both computer and player choose same moves\n",
        "  if computer==player:\n",
        "    print(\"Tie! You both choose \" +  player)\n",
        "  # if player choose Rock\n",
        "  elif player==\"Rock\":\n",
        "    if computer==\"Paper\":\n",
        "      print(\"You lose! \"+ computer + \"wraps\" + player)\n",
        "    else:\n",
        "      print(\"You win!\"+ player + \"smashes\"+ computer)\n",
        "  # if player choose paper\n",
        "  elif player==\"Paper\":\n",
        "    if computer==\"Rock\":\n",
        "      print(\"You win!\"+\" \"+ player+\" \" +\"wraps\"+ \" \"+ computer)\n",
        "    else:\n",
        "      print(\"You lose!\"+ computer +\"cuts\"+ player)\n",
        "  # if player choose scissor\n",
        "  elif player==\"Scissor\":\n",
        "    if computer==\"Paper\":\n",
        "      print(\"You win!\"+ player +\"cuts\"+ computer)\n",
        "    else:\n",
        "      print(\"You lose!\"+ computer +\"smashes\"+ player)\n",
        "  # if user type something wrong\n",
        "  else:\n",
        "    print(\"Invalid Input\")\n",
        "while True:\n",
        "  playGame()"
      ],
      "execution_count": null,
      "outputs": [
        {
          "output_type": "stream",
          "text": [
            "Enter your move Rock,Paper,Scissor?Paper\n",
            "You pic Paper\n",
            "computer picks Rock\n",
            "You win! Paper wraps Rock\n",
            "Enter your move Rock,Paper,Scissor?Scissor\n",
            "You pic Scissor\n",
            "computer picks Scissor\n",
            "Tie! You both choose Scissor\n"
          ],
          "name": "stdout"
        }
      ]
    },
    {
      "cell_type": "markdown",
      "metadata": {
        "id": "8cj5pPbaBbTX",
        "colab_type": "text"
      },
      "source": [
        ""
      ]
    },
    {
      "cell_type": "markdown",
      "metadata": {
        "id": "z3CBwdX78M3C",
        "colab_type": "text"
      },
      "source": [
        ""
      ]
    }
  ]
}