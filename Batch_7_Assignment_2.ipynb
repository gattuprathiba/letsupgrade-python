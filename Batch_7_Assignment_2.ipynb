{
  "nbformat": 4,
  "nbformat_minor": 0,
  "metadata": {
    "colab": {
      "name": "Batch-7 Assignment -2.ipynb",
      "provenance": [],
      "authorship_tag": "ABX9TyOcWuUGdzVTUbCIAYXr8q17",
      "include_colab_link": true
    },
    "kernelspec": {
      "name": "python3",
      "display_name": "Python 3"
    }
  },
  "cells": [
    {
      "cell_type": "markdown",
      "metadata": {
        "id": "view-in-github",
        "colab_type": "text"
      },
      "source": [
        "<a href=\"https://colab.research.google.com/github/gattuprathiba/letsupgrade-python/blob/master/Batch_7_Assignment_2.ipynb\" target=\"_parent\"><img src=\"https://colab.research.google.com/assets/colab-badge.svg\" alt=\"Open In Colab\"/></a>"
      ]
    },
    {
      "cell_type": "markdown",
      "metadata": {
        "id": "Tbg0-rPuE_vZ",
        "colab_type": "text"
      },
      "source": [
        "Assignment-1 Day-3"
      ]
    },
    {
      "cell_type": "code",
      "metadata": {
        "id": "bEjbFxP3FNv2",
        "colab_type": "code",
        "colab": {
          "base_uri": "https://localhost:8080/",
          "height": 51
        },
        "outputId": "cdef042d-e047-4d1a-c4c5-5041c481a78e"
      },
      "source": [
        "altitude=int(input(\"Enter the flight current altitude\"))\n",
        "if altitude>5000:\n",
        "  print(\"Ask pilot to turn around and try later\")\n",
        "elif altitude<5000 and altitude>1000:\n",
        "  print(\"Ask pilot to bring it further down to 1000ft\")\n",
        "else:\n",
        "  print(\"Land safely\")"
      ],
      "execution_count": 4,
      "outputs": [
        {
          "output_type": "stream",
          "text": [
            "Enter the flight current altitude6500\n",
            "Ask pilot to turn around and try later\n"
          ],
          "name": "stdout"
        }
      ]
    },
    {
      "cell_type": "markdown",
      "metadata": {
        "id": "JNLegiqoIDAQ",
        "colab_type": "text"
      },
      "source": [
        "Assignment-2 Day-3"
      ]
    },
    {
      "cell_type": "code",
      "metadata": {
        "id": "DvnlfTHhIHvG",
        "colab_type": "code",
        "colab": {
          "base_uri": "https://localhost:8080/",
          "height": 1000
        },
        "outputId": "db010de1-71d8-4cc3-a18d-3a72938baea7"
      },
      "source": [
        "lst=list(range(1,201))\n",
        "for num in lst:\n",
        "  if num>1:\n",
        "    for i in range(2,int(num/2)):\n",
        "      if (num%i)==0:\n",
        "        break\n",
        "    else:\n",
        "      print(num,\" is a prime number\")"
      ],
      "execution_count": 35,
      "outputs": [
        {
          "output_type": "stream",
          "text": [
            "2  is a prime number\n",
            "3  is a prime number\n",
            "4  is a prime number\n",
            "5  is a prime number\n",
            "7  is a prime number\n",
            "11  is a prime number\n",
            "13  is a prime number\n",
            "17  is a prime number\n",
            "19  is a prime number\n",
            "23  is a prime number\n",
            "29  is a prime number\n",
            "31  is a prime number\n",
            "37  is a prime number\n",
            "41  is a prime number\n",
            "43  is a prime number\n",
            "47  is a prime number\n",
            "53  is a prime number\n",
            "59  is a prime number\n",
            "61  is a prime number\n",
            "67  is a prime number\n",
            "71  is a prime number\n",
            "73  is a prime number\n",
            "79  is a prime number\n",
            "83  is a prime number\n",
            "89  is a prime number\n",
            "97  is a prime number\n",
            "101  is a prime number\n",
            "103  is a prime number\n",
            "107  is a prime number\n",
            "109  is a prime number\n",
            "113  is a prime number\n",
            "127  is a prime number\n",
            "131  is a prime number\n",
            "137  is a prime number\n",
            "139  is a prime number\n",
            "149  is a prime number\n",
            "151  is a prime number\n",
            "157  is a prime number\n",
            "163  is a prime number\n",
            "167  is a prime number\n",
            "173  is a prime number\n",
            "179  is a prime number\n",
            "181  is a prime number\n",
            "191  is a prime number\n",
            "193  is a prime number\n",
            "197  is a prime number\n",
            "199  is a prime number\n"
          ],
          "name": "stdout"
        }
      ]
    }
  ]
}